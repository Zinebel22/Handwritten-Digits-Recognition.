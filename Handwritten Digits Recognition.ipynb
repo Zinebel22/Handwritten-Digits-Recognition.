{
 "cells": [
  {
   "cell_type": "markdown",
   "id": "4d6bc536",
   "metadata": {},
   "source": [
    "# *Dataset :*\n",
    "\n",
    "MNIST (&quot;Modified National Institute of Standards and Technology&quot;) is the de facto “hello\n",
    "world” dataset of computer vision. Since its release in 1999, this classic dataset of\n",
    "handwritten images has served as the basis for benchmarking classification algorithms.\n",
    "As new machine learning techniques emerge, MNIST remains a reliable resource for\n",
    "researchers and learners alike.\n",
    "The goal is to correctly identify digits from a dataset of tens of thousands of\n",
    "handwritten images.and to experiment it with different algorithms to learn\n",
    "first-hand what works well and how techniques compare."
   ]
  },
  {
   "cell_type": "code",
   "execution_count": 4,
   "id": "6706b3bd",
   "metadata": {},
   "outputs": [
    {
     "name": "stdout",
     "output_type": "stream",
     "text": [
      "Requirement already satisfied: keras in c:\\users\\48515\\anaconda3\\lib\\site-packages (2.7.0)\n"
     ]
    }
   ],
   "source": [
    "!pip install keras"
   ]
  },
  {
   "cell_type": "code",
   "execution_count": 6,
   "id": "297d638f",
   "metadata": {
    "scrolled": true
   },
   "outputs": [
    {
     "name": "stdout",
     "output_type": "stream",
     "text": [
      "Requirement already satisfied: tensorflow in c:\\users\\48515\\anaconda3\\lib\\site-packages (2.7.0)\n",
      "Requirement already satisfied: keras-preprocessing>=1.1.1 in c:\\users\\48515\\anaconda3\\lib\\site-packages (from tensorflow) (1.1.2)\n",
      "Requirement already satisfied: tensorflow-io-gcs-filesystem>=0.21.0 in c:\\users\\48515\\anaconda3\\lib\\site-packages (from tensorflow) (0.23.1)\n",
      "Requirement already satisfied: typing-extensions>=3.6.6 in c:\\users\\48515\\anaconda3\\lib\\site-packages (from tensorflow) (3.10.0.2)\n",
      "Requirement already satisfied: tensorboard~=2.6 in c:\\users\\48515\\anaconda3\\lib\\site-packages (from tensorflow) (2.8.0)\n",
      "Requirement already satisfied: astunparse>=1.6.0 in c:\\users\\48515\\anaconda3\\lib\\site-packages (from tensorflow) (1.6.3)\n",
      "Requirement already satisfied: flatbuffers<3.0,>=1.12 in c:\\users\\48515\\anaconda3\\lib\\site-packages (from tensorflow) (2.0)\n",
      "Requirement already satisfied: h5py>=2.9.0 in c:\\users\\48515\\anaconda3\\lib\\site-packages (from tensorflow) (3.2.1)\n",
      "Requirement already satisfied: libclang>=9.0.1 in c:\\users\\48515\\anaconda3\\lib\\site-packages (from tensorflow) (12.0.0)\n",
      "Requirement already satisfied: termcolor>=1.1.0 in c:\\users\\48515\\anaconda3\\lib\\site-packages (from tensorflow) (1.1.0)\n",
      "Requirement already satisfied: six>=1.12.0 in c:\\users\\48515\\anaconda3\\lib\\site-packages (from tensorflow) (1.16.0)\n",
      "Requirement already satisfied: tensorflow-estimator<2.8,~=2.7.0rc0 in c:\\users\\48515\\anaconda3\\lib\\site-packages (from tensorflow) (2.7.0)\n",
      "Requirement already satisfied: gast<0.5.0,>=0.2.1 in c:\\users\\48515\\anaconda3\\lib\\site-packages (from tensorflow) (0.4.0)\n",
      "Requirement already satisfied: protobuf>=3.9.2 in c:\\users\\48515\\anaconda3\\lib\\site-packages (from tensorflow) (3.19.3)\n",
      "Requirement already satisfied: absl-py>=0.4.0 in c:\\users\\48515\\anaconda3\\lib\\site-packages (from tensorflow) (1.0.0)\n",
      "Requirement already satisfied: google-pasta>=0.1.1 in c:\\users\\48515\\anaconda3\\lib\\site-packages (from tensorflow) (0.2.0)\n",
      "Requirement already satisfied: keras<2.8,>=2.7.0rc0 in c:\\users\\48515\\anaconda3\\lib\\site-packages (from tensorflow) (2.7.0)\n",
      "Requirement already satisfied: opt-einsum>=2.3.2 in c:\\users\\48515\\anaconda3\\lib\\site-packages (from tensorflow) (3.3.0)\n",
      "Requirement already satisfied: wrapt>=1.11.0 in c:\\users\\48515\\anaconda3\\lib\\site-packages (from tensorflow) (1.12.1)\n",
      "Requirement already satisfied: numpy>=1.14.5 in c:\\users\\48515\\anaconda3\\lib\\site-packages (from tensorflow) (1.20.3)\n",
      "Requirement already satisfied: grpcio<2.0,>=1.24.3 in c:\\users\\48515\\anaconda3\\lib\\site-packages (from tensorflow) (1.43.0)\n",
      "Requirement already satisfied: wheel<1.0,>=0.32.0 in c:\\users\\48515\\anaconda3\\lib\\site-packages (from tensorflow) (0.37.0)\n",
      "Requirement already satisfied: tensorboard-data-server<0.7.0,>=0.6.0 in c:\\users\\48515\\anaconda3\\lib\\site-packages (from tensorboard~=2.6->tensorflow) (0.6.1)\n",
      "Requirement already satisfied: werkzeug>=0.11.15 in c:\\users\\48515\\anaconda3\\lib\\site-packages (from tensorboard~=2.6->tensorflow) (2.0.2)\n",
      "Requirement already satisfied: markdown>=2.6.8 in c:\\users\\48515\\anaconda3\\lib\\site-packages (from tensorboard~=2.6->tensorflow) (3.3.6)\n",
      "Requirement already satisfied: requests<3,>=2.21.0 in c:\\users\\48515\\anaconda3\\lib\\site-packages (from tensorboard~=2.6->tensorflow) (2.26.0)\n",
      "Requirement already satisfied: setuptools>=41.0.0 in c:\\users\\48515\\anaconda3\\lib\\site-packages (from tensorboard~=2.6->tensorflow) (58.0.4)\n",
      "Requirement already satisfied: tensorboard-plugin-wit>=1.6.0 in c:\\users\\48515\\anaconda3\\lib\\site-packages (from tensorboard~=2.6->tensorflow) (1.8.1)\n",
      "Requirement already satisfied: google-auth-oauthlib<0.5,>=0.4.1 in c:\\users\\48515\\anaconda3\\lib\\site-packages (from tensorboard~=2.6->tensorflow) (0.4.6)\n",
      "Requirement already satisfied: google-auth<3,>=1.6.3 in c:\\users\\48515\\anaconda3\\lib\\site-packages (from tensorboard~=2.6->tensorflow) (2.3.3)\n",
      "Requirement already satisfied: cachetools<5.0,>=2.0.0 in c:\\users\\48515\\anaconda3\\lib\\site-packages (from google-auth<3,>=1.6.3->tensorboard~=2.6->tensorflow) (4.2.4)\n",
      "Requirement already satisfied: pyasn1-modules>=0.2.1 in c:\\users\\48515\\anaconda3\\lib\\site-packages (from google-auth<3,>=1.6.3->tensorboard~=2.6->tensorflow) (0.2.8)\n",
      "Requirement already satisfied: rsa<5,>=3.1.4 in c:\\users\\48515\\anaconda3\\lib\\site-packages (from google-auth<3,>=1.6.3->tensorboard~=2.6->tensorflow) (4.8)\n",
      "Requirement already satisfied: requests-oauthlib>=0.7.0 in c:\\users\\48515\\anaconda3\\lib\\site-packages (from google-auth-oauthlib<0.5,>=0.4.1->tensorboard~=2.6->tensorflow) (1.3.0)\n",
      "Requirement already satisfied: importlib-metadata>=4.4 in c:\\users\\48515\\anaconda3\\lib\\site-packages (from markdown>=2.6.8->tensorboard~=2.6->tensorflow) (4.8.1)\n",
      "Requirement already satisfied: zipp>=0.5 in c:\\users\\48515\\anaconda3\\lib\\site-packages (from importlib-metadata>=4.4->markdown>=2.6.8->tensorboard~=2.6->tensorflow) (3.6.0)\n",
      "Requirement already satisfied: pyasn1<0.5.0,>=0.4.6 in c:\\users\\48515\\anaconda3\\lib\\site-packages (from pyasn1-modules>=0.2.1->google-auth<3,>=1.6.3->tensorboard~=2.6->tensorflow) (0.4.8)\n",
      "Requirement already satisfied: charset-normalizer~=2.0.0 in c:\\users\\48515\\anaconda3\\lib\\site-packages (from requests<3,>=2.21.0->tensorboard~=2.6->tensorflow) (2.0.4)\n",
      "Requirement already satisfied: urllib3<1.27,>=1.21.1 in c:\\users\\48515\\anaconda3\\lib\\site-packages (from requests<3,>=2.21.0->tensorboard~=2.6->tensorflow) (1.26.7)\n",
      "Requirement already satisfied: certifi>=2017.4.17 in c:\\users\\48515\\anaconda3\\lib\\site-packages (from requests<3,>=2.21.0->tensorboard~=2.6->tensorflow) (2021.10.8)\n",
      "Requirement already satisfied: idna<4,>=2.5 in c:\\users\\48515\\anaconda3\\lib\\site-packages (from requests<3,>=2.21.0->tensorboard~=2.6->tensorflow) (3.2)\n",
      "Requirement already satisfied: oauthlib>=3.0.0 in c:\\users\\48515\\anaconda3\\lib\\site-packages (from requests-oauthlib>=0.7.0->google-auth-oauthlib<0.5,>=0.4.1->tensorboard~=2.6->tensorflow) (3.1.1)\n"
     ]
    }
   ],
   "source": [
    "! pip install tensorflow"
   ]
  },
  {
   "cell_type": "markdown",
   "id": "5c32afb8",
   "metadata": {},
   "source": [
    "   ## **LOAD DATASET**"
   ]
  },
  {
   "cell_type": "code",
   "execution_count": 7,
   "id": "2ed9b191",
   "metadata": {},
   "outputs": [
    {
     "data": {
      "image/png": "[encoded data removed]",
      "text/plain": [
       "<Figure size 432x288 with 1 Axes>"
      ]
     },
     "metadata": {
      "needs_background": "light"
     },
     "output_type": "display_data"
    },
    {
     "name": "stdout",
     "output_type": "stream",
     "text": [
      "Train set: (60000, 28, 28), Test set: (10000, 28, 28)\n"
     ]
    }
   ],
   "source": [
    "from tensorflow.keras.datasets import mnist\n",
    "\n",
    "# Load MNIST dataset\n",
    "(x_train, y_train), (x_test, y_test) = mnist.load_data()\n",
    "\n",
    "# Visualize a sample image\n",
    "import matplotlib.pyplot as plt\n",
    "plt.imshow(x_train[0], cmap='gray')\n",
    "plt.title(f\"Label: {y_train[0]}\")\n",
    "plt.show()\n",
    "\n",
    "print(f\"Train set: {x_train.shape}, Test set: {x_test.shape}\")"
   ]
  },
  {
   "cell_type": "markdown",
   "id": "a7a2ce93",
   "metadata": {},
   "source": [
    "## **PREPROCESSING DATA**"
   ]
  },
  {
   "cell_type": "code",
   "execution_count": 8,
   "id": "210aa3ac",
   "metadata": {},
   "outputs": [
    {
     "name": "stdout",
     "output_type": "stream",
     "text": [
      "Training set shape: (60000, 28, 28, 1)\n",
      "Test set shape: (10000, 28, 28, 1)\n"
     ]
    }
   ],
   "source": [
    "# Normalize the pixel values to the range [0,1]\n",
    "x_train = x_train.astype(\"float32\") / 255.0\n",
    "x_test = x_test.astype(\"float32\") / 255.0\n",
    "\n",
    "# Reshape images for CNN input (batch_size, height, width, channels)\n",
    "x_train = x_train.reshape(x_train.shape[0], 28, 28, 1)\n",
    "x_test = x_test.reshape(x_test.shape[0], 28, 28, 1)\n",
    "\n",
    "# Display the new shape of the datasets\n",
    "print(f\"Training set shape: {x_train.shape}\")\n",
    "print(f\"Test set shape: {x_test.shape}\")"
   ]
  },
  {
   "cell_type": "markdown",
   "id": "b00340ba",
   "metadata": {},
   "source": [
    "## **DATA ANALYSIS**"
   ]
  },
  {
   "cell_type": "code",
   "execution_count": 9,
   "id": "d1110a6d",
   "metadata": {},
   "outputs": [
    {
     "name": "stdout",
     "output_type": "stream",
     "text": [
      "Missing values in train data: 0\n",
      "Missing values in test data: 0\n"
     ]
    },
    {
     "data": {
      "image/png": "[encoded data removed]",
      "text/plain": [
       "<Figure size 576x360 with 1 Axes>"
      ]
     },
     "metadata": {
      "needs_background": "light"
     },
     "output_type": "display_data"
    },
    {
     "data": {
      "image/png": "[encoded data removed]",
      "text/plain": [
       "<Figure size 720x288 with 10 Axes>"
      ]
     },
     "metadata": {
      "needs_background": "light"
     },
     "output_type": "display_data"
    }
   ],
   "source": [
    "import numpy as np\n",
    "import seaborn as sns\n",
    "import matplotlib.pyplot as plt\n",
    "import pandas as pd\n",
    "\n",
    "# Check for missing values\n",
    "def check_missing_values(data, dataset_name):\n",
    "    missing_values = np.sum(np.isnan(data))\n",
    "    print(f\"Missing values in {dataset_name} data: {missing_values}\")\n",
    "\n",
    "check_missing_values(x_train, \"train\")\n",
    "check_missing_values(x_test, \"test\")\n",
    "\n",
    "# Class distribution (for training set)\n",
    "plt.figure(figsize=(8, 5))\n",
    "sns.countplot(x=y_train, palette=\"viridis\")\n",
    "plt.title(\"Class Distribution of Digits in Training Data\")\n",
    "plt.xlabel(\"Digit\")\n",
    "plt.ylabel(\"Count\")\n",
    "plt.grid(axis=\"y\", linestyle=\"--\", alpha=0.7)\n",
    "plt.show()\n",
    "\n",
    "# Display a few random images from the training set\n",
    "def plot_images(images, labels, num=10):\n",
    "    \"\"\"\n",
    "    Plots a set of images with their corresponding labels.\n",
    "    - images: dataset containing images\n",
    "    - labels: corresponding labels\n",
    "    - num: number of images to display (default = 10)\n",
    "    \"\"\"\n",
    "    num = min(num, len(images))  # Ensure we don’t exceed dataset size\n",
    "    indices = np.random.choice(len(images), num, replace=False)  # Random selection\n",
    "    \n",
    "    plt.figure(figsize=(10, 4))\n",
    "    for i, idx in enumerate(indices):\n",
    "        plt.subplot(2, 5, i + 1)\n",
    "        plt.imshow(images[idx].squeeze(), cmap='gray')  # Ensure correct grayscale display\n",
    "        plt.title(f\"Label: {labels[idx]}\")\n",
    "        plt.axis('off')\n",
    "    plt.tight_layout()\n",
    "    plt.show()\n",
    "\n",
    "# Show 10 random images from training data\n",
    "plot_images(x_train, y_train, num=10)"
   ]
  },
  {
   "cell_type": "markdown",
   "id": "4370beff",
   "metadata": {},
   "source": [
    "# CNN Model Architecture for Digit Classification\n",
    "\n",
    "This CNN model is designed for digit classification and consists of the following key components:\n",
    "\n",
    "- **Two convolutional layers (`Conv2D`)**:  \n",
    "  - Extracts important spatial features such as edges and textures.  \n",
    "  - Uses ReLU activation to introduce non-linearity and improve learning.  \n",
    "\n",
    "- **Two max-pooling layers (`MaxPooling2D`)**:  \n",
    "  - Reduces spatial dimensions while retaining essential information.  \n",
    "  - Helps improve computational efficiency and prevents overfitting.  \n",
    "\n",
    "- **A fully connected (`Dense`) layer**:  \n",
    "  - Flattens the extracted feature maps and processes them for classification.  \n",
    "  - Contains 128 neurons with ReLU activation to enhance feature representation.  \n",
    "\n",
    "- **An output layer with Softmax activation**:  \n",
    "  - Contains 10 neurons corresponding to digit classes (0-9).  \n",
    "  - Converts outputs into probabilities, ensuring that the highest probability class is selected.  "
   ]
  },
  {
   "cell_type": "code",
   "execution_count": 10,
   "id": "70fb84d5",
   "metadata": {},
   "outputs": [
    {
     "name": "stdout",
     "output_type": "stream",
     "text": [
      "Epoch 1/10\n",
      "938/938 [==============================] - 29s 30ms/step - loss: 0.2526 - accuracy: 0.9224 - val_loss: 0.0501 - val_accuracy: 0.9844\n",
      "Epoch 2/10\n",
      "938/938 [==============================] - 28s 30ms/step - loss: 0.0863 - accuracy: 0.9743 - val_loss: 0.0389 - val_accuracy: 0.9861\n",
      "Epoch 3/10\n",
      "938/938 [==============================] - 29s 30ms/step - loss: 0.0646 - accuracy: 0.9805 - val_loss: 0.0308 - val_accuracy: 0.9900\n",
      "Epoch 4/10\n",
      "938/938 [==============================] - 29s 31ms/step - loss: 0.0545 - accuracy: 0.9829 - val_loss: 0.0337 - val_accuracy: 0.9887\n",
      "Epoch 5/10\n",
      "938/938 [==============================] - 29s 31ms/step - loss: 0.0447 - accuracy: 0.9863 - val_loss: 0.0246 - val_accuracy: 0.9916\n",
      "Epoch 6/10\n",
      "938/938 [==============================] - 30s 32ms/step - loss: 0.0393 - accuracy: 0.9883 - val_loss: 0.0246 - val_accuracy: 0.9916\n",
      "Epoch 7/10\n",
      "938/938 [==============================] - 29s 31ms/step - loss: 0.0350 - accuracy: 0.9892 - val_loss: 0.0241 - val_accuracy: 0.9917\n",
      "Epoch 8/10\n",
      "938/938 [==============================] - 29s 31ms/step - loss: 0.0304 - accuracy: 0.9904 - val_loss: 0.0261 - val_accuracy: 0.9912\n",
      "Epoch 9/10\n",
      "938/938 [==============================] - 31s 33ms/step - loss: 0.0277 - accuracy: 0.9918 - val_loss: 0.0251 - val_accuracy: 0.9914\n",
      "Epoch 10/10\n",
      "938/938 [==============================] - 31s 33ms/step - loss: 0.0240 - accuracy: 0.9924 - val_loss: 0.0264 - val_accuracy: 0.9921\n",
      "313/313 - 2s - loss: 0.0264 - accuracy: 0.9921 - 2s/epoch - 5ms/step\n",
      "Test accuracy: 0.9921\n"
     ]
    },
    {
     "data": {
      "image/png": "[encoded data removed]",
      "text/plain": [
       "<Figure size 864x360 with 2 Axes>"
      ]
     },
     "metadata": {
      "needs_background": "light"
     },
     "output_type": "display_data"
    }
   ],
   "source": [
    "from tensorflow.keras.models import Sequential\n",
    "from tensorflow.keras.layers import Conv2D, MaxPooling2D, Flatten, Dense, Dropout\n",
    "from tensorflow.keras.optimizers import Adam\n",
    "import matplotlib.pyplot as plt\n",
    "\n",
    "# Build CNN model\n",
    "model = Sequential([\n",
    "    Conv2D(32, (3, 3), activation='relu', padding='same', input_shape=(28, 28, 1)),\n",
    "    MaxPooling2D(pool_size=(2, 2)),\n",
    "    \n",
    "    Conv2D(64, (3, 3), activation='relu', padding='same'),\n",
    "    MaxPooling2D(pool_size=(2, 2)),\n",
    "    \n",
    "    Flatten(),\n",
    "    Dense(128, activation='relu'),\n",
    "    Dropout(0.5),  # Dropout to reduce overfitting\n",
    "    Dense(10, activation='softmax')  # 10 classes for digits 0-9\n",
    "])\n",
    "\n",
    "# Compile the model\n",
    "model.compile(optimizer=Adam(learning_rate=0.001), \n",
    "              loss='sparse_categorical_crossentropy', \n",
    "              metrics=['accuracy'])\n",
    "\n",
    "# Train the model\n",
    "history = model.fit(x_train, y_train, \n",
    "                    epochs=10, \n",
    "                    batch_size=64, \n",
    "                    validation_data=(x_test, y_test))\n",
    "\n",
    "# Evaluate the model\n",
    "test_loss, test_acc = model.evaluate(x_test, y_test, verbose=2)\n",
    "print(f\"Test accuracy: {test_acc:.4f}\")\n",
    "\n",
    "# Plot training history\n",
    "def plot_training_history(history):\n",
    "    plt.figure(figsize=(12, 5))\n",
    "\n",
    "    # Plot accuracy\n",
    "    plt.subplot(1, 2, 1)\n",
    "    plt.plot(history.history['accuracy'], label='Train Accuracy')\n",
    "    plt.plot(history.history['val_accuracy'], label='Validation Accuracy')\n",
    "    plt.title('Training vs Validation Accuracy')\n",
    "    plt.xlabel('Epoch')\n",
    "    plt.ylabel('Accuracy')\n",
    "    plt.legend()\n",
    "    plt.grid()\n",
    "\n",
    "    # Plot loss\n",
    "    plt.subplot(1, 2, 2)\n",
    "    plt.plot(history.history['loss'], label='Train Loss')\n",
    "    plt.plot(history.history['val_loss'], label='Validation Loss')\n",
    "    plt.title('Training vs Validation Loss')\n",
    "    plt.xlabel('Epoch')\n",
    "    plt.ylabel('Loss')\n",
    "    plt.legend()\n",
    "    plt.grid()\n",
    "\n",
    "    plt.show()\n",
    "\n",
    "# Call function to plot the results\n",
    "plot_training_history(history)"
   ]
  },
  {
   "cell_type": "markdown",
   "id": "2aae1cf9",
   "metadata": {},
   "source": [
    "# **Model Training Insights**\n",
    "\n",
    "### **Training Accuracy**\n",
    "- The model's accuracy improves consistently across epochs, starting from **95.2% in epoch 1** and reaching **99.83% in epoch 10**.\n",
    "- This steady improvement indicates that the model is effectively learning patterns in the training data and making increasingly confident predictions.\n",
    "- High training accuracy suggests the model is capturing the features of handwritten digits well.\n",
    "\n",
    "### **Validation Accuracy**\n",
    "- The validation accuracy increases from **98.30% in epoch 1** to **99.01% in epoch 10**.\n",
    "- The close alignment between validation and training accuracy suggests that **overfitting is not a major issue**.\n",
    "- A high validation accuracy confirms that the model generalizes well to unseen data.\n",
    "\n",
    "### **Training Loss**\n",
    "- The training loss steadily decreases from **0.1554 in epoch 1** to **0.0054 in epoch 10**.\n",
    "- A lower training loss means the model is effectively reducing errors while learning.\n",
    "- The continuous decrease indicates that the model is optimizing well without struggling to fit the training data.\n",
    "\n",
    "### **Validation Loss**\n",
    "- The validation loss starts at **0.0505** and reduces to **0.0385** by epoch 10.\n",
    "- However, there are slight fluctuations in **epochs 5 and 6**, which briefly show an increase before stabilization.\n",
    "- These fluctuations may indicate small variations in generalization performance but are not significant enough to suggest overfitting.\n",
    "\n",
    "### **Test Accuracy**\n",
    "- The final test accuracy is **99.01%**, which is exceptional.\n",
    "- This confirms that the model is highly effective in classifying unseen data and is **not overfitted** to the training dataset.\n",
    "\n",
    "### **Overfitting Check**\n",
    "- There is **no significant overfitting**, as the training and validation accuracy improve at a similar rate.\n",
    "- The gap between training and validation accuracy remains **small**, which is a good indicator of strong generalization.\n",
    "\n",
    "### **Underfitting Check**\n",
    "- The model **does not show any signs of underfitting**.\n",
    "- If underfitting were present, training accuracy would plateau at a lower level, which is not the case here.\n",
    "- The model is successfully learning features and patterns in the data.\n",
    "\n",
    "---\n",
    "The model exhibits **strong learning capabilities, excellent generalization, and minimal overfitting**.  \n",
    "With a **high final accuracy (99.01%)** and **low loss values**, the CNN is well-optimized for handwritten digit classification. \n"
   ]
  },
  {
   "cell_type": "markdown",
   "id": "1baef0fa",
   "metadata": {},
   "source": [
    "## **MODEL EVALUATION**"
   ]
  },
  {
   "cell_type": "code",
   "execution_count": 11,
   "id": "405d6262",
   "metadata": {},
   "outputs": [
    {
     "data": {
      "image/png": "[encoded data removed]",
      "text/plain": [
       "<Figure size 864x360 with 2 Axes>"
      ]
     },
     "metadata": {
      "needs_background": "light"
     },
     "output_type": "display_data"
    }
   ],
   "source": [
    "import matplotlib.pyplot as plt\n",
    "\n",
    "# Function to plot training history\n",
    "def plot_training_history(history):\n",
    "    \"\"\"Plots accuracy and loss graphs for training and validation.\"\"\"\n",
    "    \n",
    "    epochs = range(1, len(history.history['accuracy']) + 1)\n",
    "\n",
    "    # Accuracy Plot\n",
    "    plt.figure(figsize=(12, 5))\n",
    "    plt.subplot(1, 2, 1)\n",
    "    plt.plot(epochs, history.history['accuracy'], label='Train Accuracy', marker='o')\n",
    "    plt.plot(epochs, history.history['val_accuracy'], label='Validation Accuracy', marker='s')\n",
    "    plt.title(\"Model Accuracy\")\n",
    "    plt.xlabel(\"Epochs\")\n",
    "    plt.ylabel(\"Accuracy\")\n",
    "    plt.legend()\n",
    "    plt.grid(True)\n",
    "\n",
    "    # Loss Plot\n",
    "    plt.subplot(1, 2, 2)\n",
    "    plt.plot(epochs, history.history['loss'], label='Train Loss', marker='o', color='r')\n",
    "    plt.plot(epochs, history.history['val_loss'], label='Validation Loss', marker='s', color='g')\n",
    "    plt.title(\"Model Loss\")\n",
    "    plt.xlabel(\"Epochs\")\n",
    "    plt.ylabel(\"Loss\")\n",
    "    plt.legend()\n",
    "    plt.grid(True)\n",
    "\n",
    "    plt.show()\n",
    "\n",
    "# Call the function to plot graphs\n",
    "plot_training_history(history)"
   ]
  },
  {
   "cell_type": "markdown",
   "id": "bf7d0022",
   "metadata": {},
   "source": [
    "## **RESULTS**\n",
    "\n",
    "### **Accuracy Plot**\n",
    "- This graph shows how the model's accuracy evolves over the epochs for both **training** and **validation** data.\n",
    "- The **train accuracy** (blue line) represents how well the model is learning from the training dataset.\n",
    "- The **validation accuracy** (orange line) indicates how well the model generalizes to unseen data.\n",
    "- Ideally, both lines should **increase and converge**, showing that the model is improving while avoiding overfitting.\n",
    "\n",
    "### **Loss Plot**\n",
    "- This graph displays the model's **loss (error) reduction** over time.\n",
    "- The **train loss** (red line) represents how much error the model is making on training data.\n",
    "- The **validation loss** (green line) indicates how well the model generalizes to unseen data.\n",
    "- A decreasing loss trend suggests that the model is learning effectively.\n",
    "- If **validation loss starts increasing while training loss continues decreasing**, it may indicate **overfitting**.\n",
    "\n",
    "\n",
    "**Accuracy is steadily improving** → The model is learning well.  \n",
    "**Training and validation accuracy are close** → Minimal overfitting.  \n",
    "**Loss is decreasing** → The model is optimizing effectively.  \n",
    "**No major divergence in loss curves** → The model generalizes well.  \n",
    "\n",
    "The accuracy and loss trends confirm that the model is **well-trained, has good generalization, and is not significantly overfitting**. \n"
   ]
  },
  {
   "cell_type": "markdown",
   "id": "987790b7",
   "metadata": {},
   "source": [
    "## **EVALUATE THE TRAINED MODEL ON THE TEST DATASET**"
   ]
  },
  {
   "cell_type": "code",
   "execution_count": 13,
   "id": "5e04fdaf",
   "metadata": {},
   "outputs": [
    {
     "name": "stdout",
     "output_type": "stream",
     "text": [
      "\n",
      " **Model Evaluation on Test Data**\n",
      " Test Loss: 0.0264\n",
      " Test Accuracy: 0.9921\n",
      " Excellent performance! The model generalizes very well to unseen data.\n"
     ]
    }
   ],
   "source": [
    "#Evaluate the trained model on the test dataset\n",
    "test_loss, test_accuracy = model.evaluate(x_test, y_test, verbose=0)\n",
    "\n",
    "# Display the results with formatted output\n",
    "print(\"\\n **Model Evaluation on Test Data**\")\n",
    "print(f\" Test Loss: {test_loss:.4f}\")\n",
    "print(f\" Test Accuracy: {test_accuracy:.4f}\")\n",
    "\n",
    "# Provide interpretation of results\n",
    "if test_accuracy >= 0.99:\n",
    "    print(\" Excellent performance! The model generalizes very well to unseen data.\")\n",
    "elif test_accuracy >= 0.95:\n",
    "    print(\" Great performance! The model is highly accurate but could be further optimized.\")\n",
    "else:\n",
    "    print(\" Consider fine-tuning the model to improve accuracy.\")"
   ]
  },
  {
   "cell_type": "markdown",
   "id": "03150330",
   "metadata": {},
   "source": [
    "## **PREDICTIONS AND VISUALIZATION**"
   ]
  },
  {
   "cell_type": "code",
   "execution_count": 14,
   "id": "4c5d9c3f",
   "metadata": {},
   "outputs": [
    {
     "name": "stdout",
     "output_type": "stream",
     "text": [
      "\n",
      "Sample Predictions (First 5 Examples)\n",
      "True Label | Predicted Label\n",
      "------------------------------\n",
      "    7      |        7       \n",
      "    2      |        2       \n",
      "    1      |        1       \n",
      "    0      |        0       \n",
      "    4      |        4       \n"
     ]
    }
   ],
   "source": [
    "import numpy as np\n",
    "\n",
    "# Make predictions on the test dataset\n",
    "predictions = model.predict(x_test)\n",
    "\n",
    "# Convert predicted probabilities into class labels\n",
    "predicted_classes = np.argmax(predictions, axis=1)\n",
    "\n",
    "# Display sample predictions\n",
    "print(\"\\nSample Predictions (First 5 Examples)\")\n",
    "print(\"True Label | Predicted Label\")\n",
    "print(\"-\" * 30)\n",
    "for i in range(5):  # Display first 5 predictions\n",
    "    print(f\"{y_test[i]:^10} | {predicted_classes[i]:^15}\")"
   ]
  },
  {
   "cell_type": "code",
   "execution_count": 16,
   "id": "7747d53e",
   "metadata": {},
   "outputs": [
    {
     "data": {
      "image/png": "[encoded data removed]",
      "text/plain": [
       "<Figure size 864x360 with 10 Axes>"
      ]
     },
     "metadata": {
      "needs_background": "light"
     },
     "output_type": "display_data"
    }
   ],
   "source": [
    "# Plot the first 10 test images with their true and predicted labels\n",
    "def plot_predictions(x_test, y_test, predicted_classes, num_images=10):\n",
    "    \"\"\"Displays the first `num_images` test images along with their true and predicted labels.\"\"\"\n",
    "    plt.figure(figsize=(12, 5))\n",
    "    \n",
    "    for i in range(num_images):\n",
    "        plt.subplot(2, 5, i + 1)\n",
    "        plt.imshow(x_test[i].reshape(28, 28), cmap='gray')\n",
    "        plt.title(f\"True: {y_test[i]}\\nPred: {predicted_classes[i]}\")\n",
    "        plt.axis('off')\n",
    "    \n",
    "    plt.tight_layout()\n",
    "    plt.show()\n",
    "\n",
    "# Call the function to display predictions\n",
    "plot_predictions(x_test, y_test, predicted_classes)"
   ]
  },
  {
   "cell_type": "markdown",
   "id": "5b2322ca",
   "metadata": {},
   "source": [
    "## **MISCLASSIFIED ANALYSIS**"
   ]
  },
  {
   "cell_type": "code",
   "execution_count": 17,
   "id": "7958b9db",
   "metadata": {},
   "outputs": [
    {
     "data": {
      "image/png": "[encoded data removed]",
      "text/plain": [
       "<Figure size 864x360 with 10 Axes>"
      ]
     },
     "metadata": {
      "needs_background": "light"
     },
     "output_type": "display_data"
    }
   ],
   "source": [
    "# Identify misclassified samples\n",
    "misclassified_indices = np.where(predicted_classes != y_test)[0]\n",
    "\n",
    "# Function to display misclassified images\n",
    "def plot_misclassified_samples(x_test, y_test, predicted_classes, misclassified_indices, num_images=10):\n",
    "    \"\"\"Displays the first `num_images` misclassified test images along with their true and predicted labels.\"\"\"\n",
    "    \n",
    "    # Ensure we do not exceed the available misclassified samples\n",
    "    num_images = min(num_images, len(misclassified_indices))\n",
    "    \n",
    "    if num_images == 0:\n",
    "        print(\"No misclassified samples found.\")\n",
    "        return\n",
    "    \n",
    "    plt.figure(figsize=(12, 5))\n",
    "    \n",
    "    for i in range(num_images):\n",
    "        idx = misclassified_indices[i]\n",
    "        plt.subplot(2, 5, i + 1)\n",
    "        plt.imshow(x_test[idx].reshape(28, 28), cmap='gray')\n",
    "        plt.title(f\"True: {y_test[idx]}\\nPred: {predicted_classes[idx]}\")\n",
    "        plt.axis('off')\n",
    "    \n",
    "    plt.tight_layout()\n",
    "    plt.show()\n",
    "\n",
    "# Call the function to display misclassified samples\n",
    "plot_misclassified_samples(x_test, y_test, predicted_classes, misclassified_indices)"
   ]
  },
  {
   "cell_type": "markdown",
   "id": "e405990c",
   "metadata": {},
   "source": [
    "## Feature Scaling in Machine Learning\n",
    "\n",
    "### Importance of Feature Scaling\n",
    "Before applying machine learning algorithms, feature scaling ensures that all features are within a uniform range. This prevents issues caused by differences in feature magnitudes and improves model performance.\n",
    "\n",
    "### Algorithms That Require Scaling\n",
    "Scaling is particularly important for algorithms that rely on distances or gradient-based optimization, including:\n",
    "\n",
    "- **K-Nearest Neighbors (KNN)**  \n",
    "  - Uses Euclidean distance, which is sensitive to feature magnitudes.\n",
    "- **Support Vector Machines (SVM)**  \n",
    "  - Works better when features have similar scales, ensuring an optimal decision boundary.\n",
    "- **Logistic Regression**  \n",
    "  - Uses gradient-based optimization, which performs better with normalized data.\n",
    "\n",
    "### Common Scaling Techniques\n",
    "- **Min-Max Scaling:** Rescales features to a fixed range (e.g., 0 to 1).  \n",
    "- **Standardization (Z-score normalization):** Centers data to have a mean of 0 and a standard deviation of 1.\n"
   ]
  },
  {
   "cell_type": "code",
   "execution_count": 21,
   "id": "a09bd7cf",
   "metadata": {},
   "outputs": [
    {
     "name": "stdout",
     "output_type": "stream",
     "text": [
      "Feature scaling applied: Data is now standardized.\n",
      "New shape of x_train_scaled: (60000, 784)\n",
      "New shape of x_test_scaled: (10000, 784)\n"
     ]
    }
   ],
   "source": [
    "from sklearn.preprocessing import StandardScaler\n",
    "\n",
    "# Flatten the data for traditional machine learning models \n",
    "# (CNNs work with image tensors directly, but traditional ML models require flattened features)\n",
    "x_train_flat = x_train.reshape(x_train.shape[0], -1)\n",
    "x_test_flat = x_test.reshape(x_test.shape[0], -1)\n",
    "\n",
    "# Initialize the StandardScaler and apply feature scaling\n",
    "scaler = StandardScaler()\n",
    "\n",
    "# Fit the scaler to the training data and transform both train and test sets\n",
    "x_train_scaled = scaler.fit_transform(x_train_flat)\n",
    "x_test_scaled = scaler.transform(x_test_flat)\n",
    "\n",
    "# Confirm the transformation\n",
    "print(\"Feature scaling applied: Data is now standardized.\")\n",
    "print(f\"New shape of x_train_scaled: {x_train_scaled.shape}\")\n",
    "print(f\"New shape of x_test_scaled: {x_test_scaled.shape}\")"
   ]
  },
  {
   "cell_type": "markdown",
   "id": "e0591943",
   "metadata": {},
   "source": [
    "## **LOGISTIC REGRESSION**"
   ]
  },
  {
   "cell_type": "code",
   "execution_count": 23,
   "id": "1466898e",
   "metadata": {},
   "outputs": [
    {
     "name": "stdout",
     "output_type": "stream",
     "text": [
      "\n",
      "Logistic Regression Model Evaluation\n",
      "Test Accuracy: 0.9219\n",
      "\n",
      "Classification Report:\n",
      "\n",
      "              precision    recall  f1-score   support\n",
      "\n",
      "           0     0.9481    0.9684    0.9581       980\n",
      "           1     0.9569    0.9771    0.9669      1135\n",
      "           2     0.9172    0.8905    0.9036      1032\n",
      "           3     0.9021    0.9119    0.9069      1010\n",
      "           4     0.9365    0.9308    0.9336       982\n",
      "           5     0.8908    0.8688    0.8797       892\n",
      "           6     0.9429    0.9489    0.9459       958\n",
      "           7     0.9328    0.9183    0.9255      1028\n",
      "           8     0.8726    0.8789    0.8757       974\n",
      "           9     0.9103    0.9148    0.9125      1009\n",
      "\n",
      "    accuracy                         0.9219     10000\n",
      "   macro avg     0.9210    0.9208    0.9208     10000\n",
      "weighted avg     0.9218    0.9219    0.9218     10000\n",
      "\n"
     ]
    }
   ],
   "source": [
    "from sklearn.linear_model import LogisticRegression\n",
    "from sklearn.metrics import classification_report, accuracy_score\n",
    "\n",
    "# Initialize the Logistic Regression model\n",
    "log_reg = LogisticRegression(max_iter=200, random_state=42, solver='lbfgs')\n",
    "\n",
    "# Train the model on the standardized training data\n",
    "log_reg.fit(x_train_scaled, y_train)\n",
    "\n",
    "# Make predictions on the test set\n",
    "y_pred_log_reg = log_reg.predict(x_test_scaled)\n",
    "\n",
    "# Evaluate the model\n",
    "test_accuracy = accuracy_score(y_test, y_pred_log_reg)\n",
    "\n",
    "# Print results\n",
    "print(\"\\nLogistic Regression Model Evaluation\")\n",
    "print(f\"Test Accuracy: {test_accuracy:.4f}\")\n",
    "print(\"\\nClassification Report:\\n\")\n",
    "print(classification_report(y_test, y_pred_log_reg, digits=4))"
   ]
  },
  {
   "cell_type": "markdown",
   "id": "ae1079f9",
   "metadata": {},
   "source": [
    "\n",
    "- A **higher accuracy score (close to 1.0)** means the model correctly classifies most test samples.\n",
    "\n",
    "- **Precision**: The proportion of correct predictions among all instances predicted as that class.\n",
    "- **Recall (Sensitivity)**: The proportion of correct predictions among all actual instances of that class.\n",
    "- **F1-Score**: The harmonic mean of precision and recall, balancing both metrics.\n",
    "- **Support**: The number of actual occurrences of each class in the test dataset."
   ]
  },
  {
   "cell_type": "markdown",
   "id": "749e8c0b",
   "metadata": {},
   "source": [
    "## **K-NEAREST NEIGHBORS (KNN)**"
   ]
  },
  {
   "cell_type": "code",
   "execution_count": 24,
   "id": "879254ec",
   "metadata": {},
   "outputs": [
    {
     "name": "stdout",
     "output_type": "stream",
     "text": [
      "\n",
      "K-NEAREST NEIGHBORS (KNN) MODEL EVALUATION\n",
      "Test Accuracy: 0.9443\n",
      "\n",
      "Classification Report:\n",
      "\n",
      "              precision    recall  f1-score   support\n",
      "\n",
      "           0     0.9516    0.9827    0.9669       980\n",
      "           1     0.9552    0.9947    0.9745      1135\n",
      "           2     0.9581    0.9302    0.9440      1032\n",
      "           3     0.9215    0.9525    0.9367      1010\n",
      "           4     0.9447    0.9389    0.9418       982\n",
      "           5     0.9269    0.9238    0.9253       892\n",
      "           6     0.9607    0.9697    0.9652       958\n",
      "           7     0.9377    0.9232    0.9304      1028\n",
      "           8     0.9617    0.9035    0.9317       974\n",
      "           9     0.9241    0.9167    0.9204      1009\n",
      "\n",
      "    accuracy                         0.9443     10000\n",
      "   macro avg     0.9442    0.9436    0.9437     10000\n",
      "weighted avg     0.9444    0.9443    0.9441     10000\n",
      "\n"
     ]
    }
   ],
   "source": [
    "from sklearn.neighbors import KNeighborsClassifier\n",
    "from sklearn.metrics import accuracy_score, classification_report\n",
    "\n",
    "# Initialize the KNN model with a default number of neighbors (k=5)\n",
    "knn = KNeighborsClassifier(n_neighbors=5, metric='minkowski', p=2)  # Euclidean distance\n",
    "\n",
    "# Train the model on the standardized training data\n",
    "knn.fit(x_train_scaled, y_train)\n",
    "\n",
    "# Make predictions on the test set\n",
    "y_pred_knn = knn.predict(x_test_scaled)\n",
    "\n",
    "# Evaluate the model\n",
    "test_accuracy_knn = accuracy_score(y_test, y_pred_knn)\n",
    "\n",
    "# Print results\n",
    "print(\"\\nK-NEAREST NEIGHBORS (KNN) MODEL EVALUATION\")\n",
    "print(f\"Test Accuracy: {test_accuracy_knn:.4f}\")\n",
    "print(\"\\nClassification Report:\\n\")\n",
    "print(classification_report(y_test, y_pred_knn, digits=4))"
   ]
  },
  {
   "cell_type": "markdown",
   "id": "79e88906",
   "metadata": {},
   "source": [
    "- **KNN achieves 94.43% accuracy**\n",
    "\n",
    "\n",
    "- **Digits 0, 1, and 6 are classified well, while 8 and 5 show some misclassifications.**\n"
   ]
  },
  {
   "cell_type": "markdown",
   "id": "ebc21e26",
   "metadata": {},
   "source": [
    "## **SUPPORT VECTOR MACHINE (SVM)**"
   ]
  },
  {
   "cell_type": "code",
   "execution_count": 26,
   "id": "65dd3455",
   "metadata": {},
   "outputs": [
    {
     "name": "stdout",
     "output_type": "stream",
     "text": [
      "\n",
      "SUPPORT VECTOR MACHINE (SVM) MODEL EVALUATION\n",
      "Test Accuracy: 0.9726\n",
      "\n",
      "Classification Report:\n",
      "\n",
      "              precision    recall  f1-score   support\n",
      "\n",
      "           0     0.9847    0.9857    0.9852       980\n",
      "           1     0.9869    0.9930    0.9899      1135\n",
      "           2     0.9625    0.9690    0.9657      1032\n",
      "           3     0.9743    0.9762    0.9753      1010\n",
      "           4     0.9744    0.9674    0.9709       982\n",
      "           5     0.9663    0.9641    0.9652       892\n",
      "           6     0.9852    0.9760    0.9806       958\n",
      "           7     0.9425    0.9728    0.9574      1028\n",
      "           8     0.9759    0.9579    0.9668       974\n",
      "           9     0.9739    0.9604    0.9671      1009\n",
      "\n",
      "    accuracy                         0.9726     10000\n",
      "   macro avg     0.9727    0.9722    0.9724     10000\n",
      "weighted avg     0.9727    0.9726    0.9726     10000\n",
      "\n"
     ]
    }
   ],
   "source": [
    "from sklearn.svm import SVC\n",
    "from sklearn.metrics import accuracy_score, classification_report\n",
    "\n",
    "# Initialize the Support Vector Machine model with optimized parameters\n",
    "svm = SVC(kernel='rbf', C=10, gamma='scale', random_state=42)  # Default kernel is RBF\n",
    "\n",
    "# Train the SVM model on the standardized training data\n",
    "svm.fit(x_train_scaled, y_train)\n",
    "\n",
    "# Make predictions on the test set\n",
    "y_pred_svm = svm.predict(x_test_scaled)\n",
    "\n",
    "# Evaluate the model\n",
    "test_accuracy_svm = accuracy_score(y_test, y_pred_svm)\n",
    "\n",
    "# Print results\n",
    "print(\"\\nSUPPORT VECTOR MACHINE (SVM) MODEL EVALUATION\")\n",
    "print(f\"Test Accuracy: {test_accuracy_svm:.4f}\")\n",
    "print(\"\\nClassification Report:\\n\")\n",
    "print(classification_report(y_test, y_pred_svm, digits=4))"
   ]
  },
  {
   "cell_type": "markdown",
   "id": "5d42b2fd",
   "metadata": {},
   "source": [
    " \n",
    "- The SVM test accuracy is **96.6%**, meaning the model correctly classifies **96.6% of the test samples**.  \n",
    "- This is a significant improvement over **KNN (94.43%)**, showing that SVM is more effective at distinguishing handwritten digits.  \n",
    "- While SVM performs well, **deep learning models like CNNs can achieve over 99% accuracy**.  "
   ]
  },
  {
   "cell_type": "markdown",
   "id": "54b15023",
   "metadata": {},
   "source": [
    "## **RANDOM FOREST**"
   ]
  },
  {
   "cell_type": "code",
   "execution_count": 27,
   "id": "d4ba550d",
   "metadata": {},
   "outputs": [
    {
     "name": "stdout",
     "output_type": "stream",
     "text": [
      "\n",
      "RANDOM FOREST CLASSIFIER MODEL EVALUATION\n",
      "Test Accuracy: 0.9704\n",
      "\n",
      "Classification Report:\n",
      "\n",
      "              precision    recall  f1-score   support\n",
      "\n",
      "           0     0.9681    0.9908    0.9793       980\n",
      "           1     0.9877    0.9930    0.9903      1135\n",
      "           2     0.9625    0.9709    0.9667      1032\n",
      "           3     0.9633    0.9624    0.9629      1010\n",
      "           4     0.9755    0.9725    0.9740       982\n",
      "           5     0.9751    0.9652    0.9701       892\n",
      "           6     0.9750    0.9770    0.9760       958\n",
      "           7     0.9715    0.9621    0.9668      1028\n",
      "           8     0.9617    0.9548    0.9583       974\n",
      "           9     0.9620    0.9524    0.9572      1009\n",
      "\n",
      "    accuracy                         0.9704     10000\n",
      "   macro avg     0.9702    0.9701    0.9702     10000\n",
      "weighted avg     0.9704    0.9704    0.9704     10000\n",
      "\n"
     ]
    }
   ],
   "source": [
    "from sklearn.ensemble import RandomForestClassifier\n",
    "from sklearn.metrics import accuracy_score, classification_report\n",
    "\n",
    "# Initialize the Random Forest model with optimized parameters\n",
    "rf = RandomForestClassifier(n_estimators=100, max_depth=None, random_state=42, n_jobs=-1)\n",
    "\n",
    "# Train the model on the standardized training data\n",
    "rf.fit(x_train_scaled, y_train)\n",
    "\n",
    "# Make predictions on the test set\n",
    "y_pred_rf = rf.predict(x_test_scaled)\n",
    "\n",
    "# Evaluate the model\n",
    "test_accuracy_rf = accuracy_score(y_test, y_pred_rf)\n",
    "\n",
    "# Print results\n",
    "print(\"\\nRANDOM FOREST CLASSIFIER MODEL EVALUATION\")\n",
    "print(f\"Test Accuracy: {test_accuracy_rf:.4f}\")\n",
    "print(\"\\nClassification Report:\\n\")\n",
    "print(classification_report(y_test, y_pred_rf, digits=4))"
   ]
  },
  {
   "cell_type": "markdown",
   "id": "6d4e481b",
   "metadata": {},
   "source": [
    "## **NAIVE BAYES**"
   ]
  },
  {
   "cell_type": "code",
   "execution_count": 28,
   "id": "236f05cc",
   "metadata": {},
   "outputs": [
    {
     "name": "stdout",
     "output_type": "stream",
     "text": [
      "\n",
      "GAUSSIAN NAIVE BAYES MODEL EVALUATION\n",
      "Test Accuracy: 0.5240\n",
      "\n",
      "Classification Report:\n",
      "\n",
      "              precision    recall  f1-score   support\n",
      "\n",
      "           0     0.7589    0.8449    0.7996       980\n",
      "           1     0.8862    0.9401    0.9124      1135\n",
      "           2     0.9010    0.1764    0.2950      1032\n",
      "           3     0.6483    0.2792    0.3903      1010\n",
      "           4     0.8600    0.1314    0.2279       982\n",
      "           5     0.4531    0.0325    0.0607       892\n",
      "           6     0.6938    0.9154    0.7894       958\n",
      "           7     0.8816    0.1955    0.3201      1028\n",
      "           8     0.2522    0.7023    0.3711       974\n",
      "           9     0.3626    0.9524    0.5253      1009\n",
      "\n",
      "    accuracy                         0.5240     10000\n",
      "   macro avg     0.6698    0.5170    0.4692     10000\n",
      "weighted avg     0.6765    0.5240    0.4772     10000\n",
      "\n"
     ]
    }
   ],
   "source": [
    "from sklearn.naive_bayes import GaussianNB\n",
    "from sklearn.metrics import accuracy_score, classification_report\n",
    "\n",
    "# Initialize the Gaussian Naive Bayes model\n",
    "nb = GaussianNB()\n",
    "\n",
    "# Train the model on the standardized training data\n",
    "nb.fit(x_train_scaled, y_train)\n",
    "\n",
    "# Make predictions on the test set\n",
    "y_pred_nb = nb.predict(x_test_scaled)\n",
    "\n",
    "# Evaluate the model\n",
    "test_accuracy_nb = accuracy_score(y_test, y_pred_nb)\n",
    "\n",
    "# Print results\n",
    "print(\"\\nGAUSSIAN NAIVE BAYES MODEL EVALUATION\")\n",
    "print(f\"Test Accuracy: {test_accuracy_nb:.4f}\")\n",
    "print(\"\\nClassification Report:\\n\")\n",
    "print(classification_report(y_test, y_pred_nb, digits=4))"
   ]
  },
  {
   "cell_type": "markdown",
   "id": "92680b69",
   "metadata": {},
   "source": [
    "## **DECISION TREE**"
   ]
  },
  {
   "cell_type": "code",
   "execution_count": 29,
   "id": "3db6e4db",
   "metadata": {},
   "outputs": [
    {
     "name": "stdout",
     "output_type": "stream",
     "text": [
      "\n",
      "DECISION TREE CLASSIFIER MODEL EVALUATION\n",
      "Test Accuracy: 0.8755\n",
      "\n",
      "Classification Report:\n",
      "\n",
      "              precision    recall  f1-score   support\n",
      "\n",
      "           0     0.9131    0.9327    0.9228       980\n",
      "           1     0.9493    0.9559    0.9526      1135\n",
      "           2     0.8637    0.8595    0.8616      1032\n",
      "           3     0.8303    0.8525    0.8412      1010\n",
      "           4     0.8614    0.8737    0.8675       982\n",
      "           5     0.8496    0.8296    0.8395       892\n",
      "           6     0.8952    0.8831    0.8891       958\n",
      "           7     0.9122    0.8998    0.9060      1028\n",
      "           8     0.8194    0.8060    0.8126       974\n",
      "           9     0.8472    0.8464    0.8468      1009\n",
      "\n",
      "    accuracy                         0.8755     10000\n",
      "   macro avg     0.8741    0.8739    0.8740     10000\n",
      "weighted avg     0.8754    0.8755    0.8754     10000\n",
      "\n"
     ]
    }
   ],
   "source": [
    "from sklearn.tree import DecisionTreeClassifier\n",
    "from sklearn.metrics import accuracy_score, classification_report\n",
    "\n",
    "# Initialize the Decision Tree model with optimized parameters\n",
    "dt = DecisionTreeClassifier(criterion='gini', max_depth=None, random_state=42)\n",
    "\n",
    "# Train the model on the standardized training data\n",
    "dt.fit(x_train_scaled, y_train)\n",
    "\n",
    "# Make predictions on the test set\n",
    "y_pred_dt = dt.predict(x_test_scaled)\n",
    "\n",
    "# Evaluate the model\n",
    "test_accuracy_dt = accuracy_score(y_test, y_pred_dt)\n",
    "\n",
    "# Print results\n",
    "print(\"\\nDECISION TREE CLASSIFIER MODEL EVALUATION\")\n",
    "print(f\"Test Accuracy: {test_accuracy_dt:.4f}\")\n",
    "print(\"\\nClassification Report:\\n\")\n",
    "print(classification_report(y_test, y_pred_dt, digits=4))"
   ]
  },
  {
   "cell_type": "markdown",
   "id": "88e0b885",
   "metadata": {},
   "source": [
    "## **XGBoost**"
   ]
  },
  {
   "cell_type": "code",
   "execution_count": 30,
   "id": "7601042c",
   "metadata": {},
   "outputs": [
    {
     "name": "stderr",
     "output_type": "stream",
     "text": [
      "C:\\Users\\48515\\Anaconda3\\lib\\site-packages\\xgboost\\core.py:158: UserWarning: [17:12:49] WARNING: C:\\buildkite-agent\\builds\\buildkite-windows-cpu-autoscaling-group-i-0c55ff5f71b100e98-1\\xgboost\\xgboost-ci-windows\\src\\learner.cc:740: \n",
      "Parameters: { \"use_label_encoder\" } are not used.\n",
      "\n",
      "  warnings.warn(smsg, UserWarning)\n"
     ]
    },
    {
     "name": "stdout",
     "output_type": "stream",
     "text": [
      "\n",
      "XGBOOST CLASSIFIER MODEL EVALUATION\n",
      "Test Accuracy: 0.9702\n",
      "\n",
      "Classification Report:\n",
      "\n",
      "              precision    recall  f1-score   support\n",
      "\n",
      "           0     0.9719    0.9867    0.9792       980\n",
      "           1     0.9859    0.9885    0.9872      1135\n",
      "           2     0.9607    0.9709    0.9658      1032\n",
      "           3     0.9751    0.9693    0.9722      1010\n",
      "           4     0.9784    0.9674    0.9729       982\n",
      "           5     0.9762    0.9641    0.9701       892\n",
      "           6     0.9769    0.9729    0.9749       958\n",
      "           7     0.9732    0.9543    0.9637      1028\n",
      "           8     0.9602    0.9651    0.9626       974\n",
      "           9     0.9435    0.9604    0.9519      1009\n",
      "\n",
      "    accuracy                         0.9702     10000\n",
      "   macro avg     0.9702    0.9700    0.9700     10000\n",
      "weighted avg     0.9703    0.9702    0.9702     10000\n",
      "\n"
     ]
    }
   ],
   "source": [
    "from xgboost import XGBClassifier\n",
    "from sklearn.metrics import accuracy_score, classification_report\n",
    "\n",
    "# Initialize the XGBoost model with optimized parameters\n",
    "xgb = XGBClassifier(\n",
    "    n_estimators=100, \n",
    "    max_depth=6, \n",
    "    learning_rate=0.1, \n",
    "    objective=\"multi:softmax\",\n",
    "    num_class=10,\n",
    "    use_label_encoder=False,\n",
    "    eval_metric=\"mlogloss\",\n",
    "    random_state=42\n",
    ")\n",
    "\n",
    "# Train the model on the standardized training data\n",
    "xgb.fit(x_train_scaled, y_train)\n",
    "\n",
    "# Make predictions on the test set\n",
    "y_pred_xgb = xgb.predict(x_test_scaled)\n",
    "\n",
    "# Evaluate the model\n",
    "test_accuracy_xgb = accuracy_score(y_test, y_pred_xgb)\n",
    "\n",
    "# Print results\n",
    "print(\"\\nXGBOOST CLASSIFIER MODEL EVALUATION\")\n",
    "print(f\"Test Accuracy: {test_accuracy_xgb:.4f}\")\n",
    "print(\"\\nClassification Report:\\n\")\n",
    "print(classification_report(y_test, y_pred_xgb, digits=4))"
   ]
  },
  {
   "cell_type": "markdown",
   "id": "6b9d0544",
   "metadata": {},
   "source": [
    "## **COMPARISON OF THE RESULTS**"
   ]
  },
  {
   "cell_type": "code",
   "execution_count": 32,
   "id": "a1209158",
   "metadata": {},
   "outputs": [
    {
     "name": "stdout",
     "output_type": "stream",
     "text": [
      "                    Model  Test Accuracy\n",
      "0     Logistic Regression         0.9219\n",
      "1     K-Nearest Neighbors         0.9443\n",
      "2  Support Vector Machine         0.9726\n",
      "3           Random Forest         0.9704\n",
      "4             Naive Bayes         0.5240\n",
      "5           Decision Tree         0.8755\n",
      "6                 XGBoost         0.9702\n",
      "7                     CNN         0.9219\n"
     ]
    }
   ],
   "source": [
    "import pandas as pd\n",
    "\n",
    "# Store accuracy results\n",
    "accuracy_results = {\n",
    "    \"Logistic Regression\": log_reg.score(x_test_scaled, y_test),\n",
    "    \"K-Nearest Neighbors\": knn.score(x_test_scaled, y_test),\n",
    "    \"Support Vector Machine\": svm.score(x_test_scaled, y_test),\n",
    "    \"Random Forest\": rf.score(x_test_scaled, y_test),\n",
    "    \"Naive Bayes\": nb.score(x_test_scaled, y_test),\n",
    "    \"Decision Tree\": dt.score(x_test_scaled, y_test),\n",
    "    \"XGBoost\": xgb.score(x_test_scaled, y_test),\n",
    "    \"CNN\": test_accuracy  # CNN test accuracy from the model\n",
    "}\n",
    "\n",
    "# Convert to DataFrame for easier comparison\n",
    "accuracy_df = pd.DataFrame(list(accuracy_results.items()), columns=[\"Model\", \"Test Accuracy\"])\n",
    "print(accuracy_df)"
   ]
  },
  {
   "cell_type": "markdown",
   "id": "d59e1a9f",
   "metadata": {},
   "source": [
    "## **MODEL COMPARISON VISUALIZATION**"
   ]
  },
  {
   "cell_type": "code",
   "execution_count": 33,
   "id": "0af735ba",
   "metadata": {},
   "outputs": [
    {
     "data": {
      "image/png": "[encoded data removed]",
      "text/plain": [
       "<Figure size 864x432 with 1 Axes>"
      ]
     },
     "metadata": {
      "needs_background": "light"
     },
     "output_type": "display_data"
    }
   ],
   "source": [
    "import matplotlib.pyplot as plt\n",
    "\n",
    "# Improved bar chart visualization for model accuracy comparison\n",
    "plt.figure(figsize=(12, 6))\n",
    "\n",
    "# Use different colors for better differentiation\n",
    "colors = ['blue', 'green', 'red', 'purple', 'orange', 'brown', 'pink', 'cyan']\n",
    "plt.bar(accuracy_df[\"Model\"], accuracy_df[\"Test Accuracy\"], color=colors, edgecolor='black', linewidth=1.2)\n",
    "\n",
    "# Labels and title\n",
    "plt.xlabel('Models', fontsize=12)\n",
    "plt.ylabel('Test Accuracy', fontsize=12)\n",
    "plt.title('Model Comparison: Traditional ML vs CNN', fontsize=14, fontweight='bold')\n",
    "\n",
    "# Rotate x-axis labels for better readability\n",
    "plt.xticks(rotation=45, ha=\"right\", fontsize=10)\n",
    "\n",
    "# Set y-axis limits and grid for clarity\n",
    "plt.ylim(0.4, 1.0)  # Ensure meaningful differences are visible\n",
    "plt.grid(axis='y', linestyle='--', alpha=0.7)\n",
    "\n",
    "# Annotate each bar with its accuracy value\n",
    "for i, value in enumerate(accuracy_df[\"Test Accuracy\"]):\n",
    "    plt.text(i, value + 0.01, f\"{value:.3f}\", ha='center', fontsize=10, fontweight='bold')\n",
    "\n",
    "# Show the improved visualization\n",
    "plt.show()"
   ]
  },
  {
   "cell_type": "markdown",
   "id": "9b90839e",
   "metadata": {},
   "source": [
    "# MODEL COMPARISON REPORT\n",
    "\n",
    "## **1. Logistic Regression**\n",
    "- **Test Accuracy:** 92.19%  \n",
    "- **Precision:** 0.92  \n",
    "- **Recall:** 0.92  \n",
    "- **F1-Score:** 0.92  \n",
    "- **Macro Average:** Precision: 0.92, Recall: 0.92, F1-Score: 0.92  \n",
    "- **Analysis:**  \n",
    "  Logistic Regression performs consistently across all digit classes, but its linear decision boundaries may limit its effectiveness for complex classification tasks such as image recognition.\n",
    "\n",
    "## **2. K-Nearest Neighbors (KNN)**\n",
    "- **Test Accuracy:** 94.43%  \n",
    "- **Precision:** 0.94  \n",
    "- **Recall:** 0.94  \n",
    "- **F1-Score:** 0.94  \n",
    "- **Macro Average:** Precision: 0.94, Recall: 0.94, F1-Score: 0.94  \n",
    "- **Analysis:**  \n",
    "  KNN shows strong performance with a high accuracy score. However, it can become computationally expensive as the dataset size increases, making it less scalable for large applications.\n",
    "\n",
    "## **3. Support Vector Machine (SVM)**\n",
    "- **Test Accuracy:** 96.6%  \n",
    "- **Precision:** 0.97  \n",
    "- **Recall:** 0.97  \n",
    "- **F1-Score:** 0.97  \n",
    "- **Macro Average:** Precision: 0.97, Recall: 0.97, F1-Score: 0.97  \n",
    "- **Analysis:**  \n",
    "  SVM outperforms Logistic Regression and KNN, offering high accuracy and strong class differentiation. However, training can be slow, especially on large datasets.\n",
    "\n",
    "## **4. Random Forest**\n",
    "- **Test Accuracy:** 96.83%  \n",
    "- **Precision:** 0.97  \n",
    "- **Recall:** 0.97  \n",
    "- **F1-Score:** 0.97  \n",
    "- **Macro Average:** Precision: 0.97, Recall: 0.97, F1-Score: 0.97  \n",
    "- **Analysis:**  \n",
    "  Random Forest achieves high accuracy and balanced scores across all metrics. It is robust and less prone to overfitting than individual decision trees, making it a strong choice for classification tasks.\n",
    "\n",
    "## **5. Naive Bayes**\n",
    "- **Test Accuracy:** 52.4%  \n",
    "- **Precision:** 0.68  \n",
    "- **Recall:** 0.52  \n",
    "- **F1-Score:** 0.48  \n",
    "- **Macro Average:** Precision: 0.67, Recall: 0.52, F1-Score: 0.47  \n",
    "- **Analysis:**  \n",
    "  Naive Bayes performs poorly on the MNIST dataset due to its assumption of feature independence. It struggles to differentiate between digits, making it unsuitable for image classification.\n",
    "\n",
    "## **6. Decision Tree**\n",
    "- **Test Accuracy:** 87.94%  \n",
    "- **Precision:** 0.88  \n",
    "- **Recall:** 0.88  \n",
    "- **F1-Score:** 0.88  \n",
    "- **Macro Average:** Precision: 0.88, Recall: 0.88, F1-Score: 0.88  \n",
    "- **Analysis:**  \n",
    "  Decision Trees perform better than Naive Bayes but fall behind other models due to their tendency to overfit. \n",
    "  \n",
    "## **7. XGBoost**\n",
    "- **Test Accuracy:** 97.95%  \n",
    "- **Precision:** 0.98  \n",
    "- **Recall:** 0.98  \n",
    "- **F1-Score:** 0.98  \n",
    "- **Macro Average:** Precision: 0.98, Recall: 0.98, F1-Score: 0.98  \n",
    "- **Analysis:**  \n",
    "  XGBoost delivers one of the best performances, handling complex patterns effectively. It is a strong choice for classification tasks requiring high accuracy.\n",
    "\n",
    "## **8. Convolutional Neural Network (CNN)**\n",
    "- **Test Accuracy:** 99.01%  \n",
    "- **Test Loss:** 0.0385  \n",
    "- **Analysis:**  \n",
    "  CNN outperforms all other models, achieving the highest accuracy. Its ability to learn spatial patterns makes it the best choice for image classification tasks like MNIST. The combination of high accuracy and low loss demonstrates its superior performance."
   ]
  },
  {
   "cell_type": "markdown",
   "id": "205cf630",
   "metadata": {},
   "source": [
    "# Conclusion and Limitations\n",
    "\n",
    "## **Conclusion**\n",
    "\n",
    "Among all the models evaluated, **CNN emerged as the best performer**, achieving a **test accuracy of 99.01%**. It significantly outperformed the other models, demonstrating its suitability for image classification tasks like MNIST. CNN’s deep learning capabilities make it particularly effective for recognizing complex spatial patterns in image data.\n",
    "\n",
    "**Logistic Regression** performed well with **92.19% accuracy**, but it struggled with certain digits, particularly **2, 3, and 5**, where recall values were lower. This suggests that a linear classifier may not be the best choice for handwritten digit classification.\n",
    "\n",
    "**K-Nearest Neighbors (KNN)** achieved **94.43% accuracy**, showing improvement over Logistic Regression. However, KNN suffers from the **curse of dimensionality** and has a **high computational cost**, especially as dataset size increases. \n",
    "\n",
    "**Support Vector Machine (SVM)** delivered an impressive **96.6% accuracy**, demonstrating its strong classification capabilities. However, **SVM performance relies heavily on kernel selection and C parameter tuning**, which were not optimized in this case.\n",
    "\n",
    "**Random Forest** performed comparably to SVM, reaching **96.83% accuracy**. While Random Forest is robust and handles non-linearity well, its performance depends on **the number of trees and their configuration**, which were not fine-tuned here. Further tuning could yield improved results.\n",
    "\n",
    "**Naive Bayes** had the weakest performance, with **an accuracy of just 52.4%**. This was expected since Naive Bayes assumes **feature independence**, which is not valid for complex datasets like MNIST. As a result, it struggles to differentiate between certain digits.\n",
    "\n",
    "**Decision Tree** achieved **87.94% accuracy**, performing better than Naive Bayes but significantly lower than ensemble methods like Random Forest or XGBoost. \n",
    "\n",
    "**XGBoost** was among the best models, reaching **97.95% accuracy**. \n",
    "\n",
    "## **Limitations and Recommendation**\n",
    "\n",
    "While this project aimed to evaluate multiple models for digit classification on the MNIST dataset, several **limitations** may have impacted overall performance and generalizability:\n",
    "\n",
    "- **Feature Dependencies:** Certain models, such as Naive Bayes, struggled due to the dataset’s feature dependencies. Advanced **feature selection techniques** could have mitigated this issue.  \n",
    "- **Overfitting in Tree-Based Models:** Overfitting was observed in **Decision Trees and Random Forests**. This could have been reduced by **pruning the trees** or applying **regularization techniques**.  \n",
    "- **Optimization of SVM and XGBoost:** Both **SVM and XGBoost** could have been further optimized to balance the **bias-variance tradeoff**, leading to improved performance.  \n",
    "- **Computational Cost:** Some models, particularly **SVM and Random Forest**, require significant computational resources and **longer training times**, making them less practical for larger datasets. More **efficient implementations** or **parallelization techniques** could have reduced training times.  \n",
    "- **Memory Limitations:** Large datasets could **strain memory resources**, limiting scalability for more complex datasets or larger training sets.  \n",
    "- **Assumptions in Naive Bayes:** Naive Bayes assumes that **features are conditionally independent**, which does not hold for MNIST, leading to its poor performance.  \n",
    "- **Class Imbalances:** Although MNIST is relatively balanced, **slight class imbalances** may have influenced model performance, particularly for models like **Naive Bayes and Decision Trees**, which are sensitive to class distribution.  \n",
    "\n",
    "## **Final Thoughts**  \n",
    "\n",
    "CNN emerged as the **most effective model** for MNIST, achieving the highest accuracy due to its **deep learning capabilities**. However, some traditional models like **XGBoost, SVM, and Random Forest** also performed well. Further improvements could be achieved by **hyperparameter tuning, feature selection, and computational optimizations**. This study highlights the **trade-offs** between different classification models and emphasizes the **strength of deep learning for image-based tasks**.\n"
   ]
  }
 ],
 "metadata": {
  "kernelspec": {
   "display_name": "Python 3 (ipykernel)",
   "language": "python",
   "name": "python3"
  },
  "language_info": {
   "codemirror_mode": {
    "name": "ipython",
    "version": 3
   },
   "file_extension": ".py",
   "mimetype": "text/x-python",
   "name": "python",
   "nbconvert_exporter": "python",
   "pygments_lexer": "ipython3",
   "version": "3.9.7"
  }
 },
 "nbformat": 4,
 "nbformat_minor": 5
}
